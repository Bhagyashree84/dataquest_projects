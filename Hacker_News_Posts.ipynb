{
 "cells": [
  {
   "cell_type": "markdown",
   "metadata": {
    "collapsed": true
   },
   "source": [
    "# Exploring Hacker News Posts "
   ]
  },
  {
   "cell_type": "markdown",
   "metadata": {},
   "source": [
    "## 1. Introduction"
   ]
  },
  {
   "cell_type": "markdown",
   "metadata": {},
   "source": [
    "*Hacker News* is a site (started by a startup incubator *Y Combinator*) where user submitted stories ('posts') receive *votes and comments*. As *Hacker News* is popular among technology and startup circles, top posts get hundreds of thousands of visitors. Our interests are in posts whose title begin with *Ask HN* (posts to ask *Hacker News* community a specific question) and *Show HN* (posts to show *Hacker News* community a project, product or generally something interesting). \n",
    "\n",
    "**In this project we will be determining the explanations for following questions:**\n",
    "1. Do *Ask HN* or *Show HN* receive more comments on an average?\n",
    "2. Do posts created at a certain time receive more comments on an average?\n",
    "\n",
    "Link to the original data is here __[Link](https://www.kaggle.com/hacker-news/hacker-news-posts)__.\n",
    "The data we are working with has been reduced in size from 300,000 rows to 20,000 rows by removing all submissions that did not receive any comments."
   ]
  },
  {
   "cell_type": "markdown",
   "metadata": {},
   "source": [
    "## 2. Opening, reading and viewing the data"
   ]
  },
  {
   "cell_type": "markdown",
   "metadata": {},
   "source": [
    "In this section we are going to convert the *csv* data called `hacker_news.csv` into a list of lists called *hn* and look at the first few rows of the dataset. First let us import all the necessary modules."
   ]
  },
  {
   "cell_type": "code",
   "execution_count": 1,
   "metadata": {},
   "outputs": [],
   "source": [
    "import csv\n",
    "import datetime as dt\n",
    "import pytz\n",
    "from datetime import datetime"
   ]
  },
  {
   "cell_type": "code",
   "execution_count": 2,
   "metadata": {},
   "outputs": [
    {
     "name": "stdout",
     "output_type": "stream",
     "text": [
      "['id', 'title', 'url', 'num_points', 'num_comments', 'author', 'created_at']\n",
      "['12224879', 'Interactive Dynamic Video', 'http://www.interactivedynamicvideo.com/', '386', '52', 'ne0phyte', '8/4/2016 11:52']\n",
      "['10975351', 'How to Use Open Source and Shut the Fuck Up at the Same Time', 'http://hueniverse.com/2016/01/26/how-to-use-open-source-and-shut-the-fuck-up-at-the-same-time/', '39', '10', 'josep2', '1/26/2016 19:30']\n",
      "['11964716', \"Florida DJs May Face Felony for April Fools' Water Joke\", 'http://www.thewire.com/entertainment/2013/04/florida-djs-april-fools-water-joke/63798/', '2', '1', 'vezycash', '6/23/2016 22:20']\n",
      "['11919867', 'Technology ventures: From Idea to Enterprise', 'https://www.amazon.com/Technology-Ventures-Enterprise-Thomas-Byers/dp/0073523429', '3', '1', 'hswarna', '6/17/2016 0:01']\n"
     ]
    }
   ],
   "source": [
    "open_file = open('hacker_news.csv')\n",
    "read_file = csv.reader(open_file)\n",
    "hn = list(read_file)\n",
    "\n",
    "#iterate through the data & print first five rows\n",
    "for i in hn[:5]:\n",
    "    print(i, sep=' ')"
   ]
  },
  {
   "cell_type": "markdown",
   "metadata": {},
   "source": [
    "The first row in the dataset contains *column header*. There are *6* columns. These are listed below:\n",
    "\n",
    " 1. `author` of the post.\n",
    " 2. `title` of the post.\n",
    " 3. `url` links (if any).\n",
    " 4. `num_points` (number of points the post acquired = No. of upvotes - No. of downvotes).\n",
    " 5. `num_comments` (number of comments made on the post).\n",
    " 6. `created_at` (the date and time at which the post was created). "
   ]
  },
  {
   "cell_type": "markdown",
   "metadata": {},
   "source": [
    "## 3. Removing Headers from the List of Lists for Analysis"
   ]
  },
  {
   "cell_type": "markdown",
   "metadata": {},
   "source": [
    "In this section we are going to get rid of the header row and keep just the body in order to analyze the dataset."
   ]
  },
  {
   "cell_type": "code",
   "execution_count": 3,
   "metadata": {},
   "outputs": [
    {
     "name": "stdout",
     "output_type": "stream",
     "text": [
      "['id', 'title', 'url', 'num_points', 'num_comments', 'author', 'created_at']\n"
     ]
    }
   ],
   "source": [
    "headers = hn[0] \n",
    "hn = hn[1:] \n",
    "print(headers) "
   ]
  },
  {
   "cell_type": "code",
   "execution_count": 4,
   "metadata": {},
   "outputs": [
    {
     "name": "stdout",
     "output_type": "stream",
     "text": [
      "['12224879', 'Interactive Dynamic Video', 'http://www.interactivedynamicvideo.com/', '386', '52', 'ne0phyte', '8/4/2016 11:52']\n",
      "['10975351', 'How to Use Open Source and Shut the Fuck Up at the Same Time', 'http://hueniverse.com/2016/01/26/how-to-use-open-source-and-shut-the-fuck-up-at-the-same-time/', '39', '10', 'josep2', '1/26/2016 19:30']\n",
      "['11964716', \"Florida DJs May Face Felony for April Fools' Water Joke\", 'http://www.thewire.com/entertainment/2013/04/florida-djs-april-fools-water-joke/63798/', '2', '1', 'vezycash', '6/23/2016 22:20']\n",
      "['11919867', 'Technology ventures: From Idea to Enterprise', 'https://www.amazon.com/Technology-Ventures-Enterprise-Thomas-Byers/dp/0073523429', '3', '1', 'hswarna', '6/17/2016 0:01']\n",
      "['10301696', 'Note by Note: The Making of Steinway L1037 (2007)', 'http://www.nytimes.com/2007/11/07/movies/07stein.html?_r=0', '8', '2', 'walterbell', '9/30/2015 4:12']\n"
     ]
    }
   ],
   "source": [
    "#loop through the 'hn data' and print the first five rows\n",
    "for i in hn[:5]:\n",
    "    print(i, sep=' ')"
   ]
  },
  {
   "cell_type": "markdown",
   "metadata": {},
   "source": [
    "Now we are left with data without the headers for further examination."
   ]
  },
  {
   "cell_type": "markdown",
   "metadata": {},
   "source": [
    "## 4. Extracting *ASK HN* and *Show HN* Posts for the Analysis"
   ]
  },
  {
   "cell_type": "markdown",
   "metadata": {},
   "source": [
    "In here we will create three empty lists one for *ask posts*, one for *show posts* and one for *other posts*. We will iterate over each row and append the appropriate rows by identifying the matching title to the above lists. "
   ]
  },
  {
   "cell_type": "code",
   "execution_count": 5,
   "metadata": {},
   "outputs": [],
   "source": [
    "ask_posts = []\n",
    "show_posts = []\n",
    "other_posts = []\n",
    "\n",
    "for i, row in enumerate(hn):\n",
    "    title = row[1]         \n",
    "    title = title.lower()  \n",
    "    title = str(title)     \n",
    "\n",
    "    if title.startswith('ask hn'):\n",
    "        ask_posts.append(hn[i])\n",
    "    elif title.startswith('show hn'):\n",
    "        show_posts.append(hn[i])\n",
    "    else:\n",
    "        other_posts.append(hn[i])\n"
   ]
  },
  {
   "cell_type": "markdown",
   "metadata": {},
   "source": [
    "We have successfully created *3* lists for our examination. Let us check the number of posts/rows in each list using *len()* built-in function"
   ]
  },
  {
   "cell_type": "code",
   "execution_count": 6,
   "metadata": {},
   "outputs": [
    {
     "name": "stdout",
     "output_type": "stream",
     "text": [
      "Ask Posts:  1744\n",
      "Show Posts:  1162\n",
      "Other Posts:  17194\n"
     ]
    }
   ],
   "source": [
    "print(\"Ask Posts: \", len(ask_posts))\n",
    "print(\"Show Posts: \", len(show_posts))\n",
    "print(\"Other Posts: \", len(other_posts))"
   ]
  },
  {
   "cell_type": "markdown",
   "metadata": {},
   "source": [
    "## 5. Comparing the Average Number of Comments for Ask HN and Show HN Posts"
   ]
  },
  {
   "cell_type": "markdown",
   "metadata": {},
   "source": [
    "In this section, we will calculate the average number of *ask posts* and *show posts* inorder to understand which one receives more comments on an average.\n",
    "\n",
    "First we will calculate the *average number of ask comments*."
   ]
  },
  {
   "cell_type": "code",
   "execution_count": 7,
   "metadata": {},
   "outputs": [
    {
     "name": "stdout",
     "output_type": "stream",
     "text": [
      "Average no. of ask comments: 14.038\n"
     ]
    }
   ],
   "source": [
    "total_ask_comments = 0\n",
    "count_ask_comments = 0\n",
    "\n",
    "for row in ask_posts:\n",
    "    num_comments = int(row[4])   \n",
    "    total_ask_comments += num_comments  \n",
    "    count_ask_comments += 1             \n",
    "\n",
    "    avg_ask_comments = total_ask_comments / count_ask_comments\n",
    "\n",
    "\n",
    "print('Average no. of ask comments:', round(avg_ask_comments, 3))"
   ]
  },
  {
   "cell_type": "markdown",
   "metadata": {},
   "source": [
    "Below we will follow the same steps for calculating the *average number of show comments* as that of *ask comments*"
   ]
  },
  {
   "cell_type": "code",
   "execution_count": 8,
   "metadata": {},
   "outputs": [
    {
     "name": "stdout",
     "output_type": "stream",
     "text": [
      "Average no. of show comments: 10.317\n"
     ]
    }
   ],
   "source": [
    "total_show_comments = 0\n",
    "count_show_comments = 0\n",
    "\n",
    "for row in show_posts:\n",
    "    num_comments = int(row[4])\n",
    "    total_show_comments += num_comments\n",
    "    count_show_comments += 1\n",
    "    \n",
    "    avg_show_comments = total_show_comments / count_show_comments\n",
    "\n",
    "print('Average no. of show comments:', round(avg_show_comments, 3))"
   ]
  },
  {
   "cell_type": "markdown",
   "metadata": {},
   "source": [
    "### Answer to the question 1:  \n",
    "**Do *Ask HN* or *Show HN* receive more comments on an average?**\n",
    "\n",
    "Our calculations show that `average ask comments` is *~14* and `average show comments` is *~10*. This implies that `Ask HN` recieves more comments than `Show HN` on an average."
   ]
  },
  {
   "cell_type": "markdown",
   "metadata": {},
   "source": [
    "## 6. Finding the Number of Ask Posts and Comments by Hour Created"
   ]
  },
  {
   "cell_type": "markdown",
   "metadata": {},
   "source": [
    "Further we will determine *if the number of ask posts created at a certain time of the day are more likely to attract more comments*. We are going to follow two steps in order to achieve this:\n",
    "\n",
    "1. Calculate the number of ask posts created each hour of the day, along with the number of comments received.\n",
    "\n",
    "2. Second, calculate the average number of comments ask posts receive by hour created."
   ]
  },
  {
   "cell_type": "markdown",
   "metadata": {},
   "source": [
    "### 6.1. Calculating the Number of Ask Posts Created Each Hour of the Day"
   ]
  },
  {
   "cell_type": "markdown",
   "metadata": {},
   "source": [
    "For the required analysis we are going to use *datetime* module. We will create an empt list and append the time at which an *ask post* is created at and the number of comments it received."
   ]
  },
  {
   "cell_type": "code",
   "execution_count": 9,
   "metadata": {},
   "outputs": [],
   "source": [
    "result_list = [] \n",
    "\n",
    "for row in ask_posts:\n",
    "    created_at = row[6]\n",
    "    num_comments = int(row[4])\n",
    "    result_list.append([created_at, num_comments])"
   ]
  },
  {
   "cell_type": "markdown",
   "metadata": {},
   "source": [
    "Further we will create two empty dictionaries for calculating *counts by hour* and *comments by hour* for the *asks posts* using *result_list*. "
   ]
  },
  {
   "cell_type": "code",
   "execution_count": 10,
   "metadata": {},
   "outputs": [],
   "source": [
    "counts_by_hour = {}\n",
    "comments_by_hour = {}\n",
    "\n",
    "#loop through the result_list and select date & comments column\n",
    "for row in result_list:\n",
    "    date = row[0]\n",
    "    num_comment = row[1]\n",
    "\n",
    "    #convert the date column to datetime object and exctract\n",
    "    #just the hour\n",
    "    date = dt.datetime.strptime(date, \"%m/%d/%Y %H:%M\")\n",
    "    hour = date.strftime(\"%H\")\n",
    "    \n",
    "    if hour not in counts_by_hour:\n",
    "        counts_by_hour[hour] = 1\n",
    "        comments_by_hour[hour] = num_comment\n",
    "    \n",
    "    if hour in counts_by_hour:\n",
    "        counts_by_hour[hour] += 1\n",
    "        comments_by_hour[hour] += num_comment"
   ]
  },
  {
   "cell_type": "markdown",
   "metadata": {},
   "source": [
    "In here we have successfully calculated number of ask posts created in each hour of the day and number of comments received."
   ]
  },
  {
   "cell_type": "markdown",
   "metadata": {},
   "source": [
    "### 6.2. Calculating the Average Number of Comments for Ask HN Posts by Hour"
   ]
  },
  {
   "cell_type": "markdown",
   "metadata": {},
   "source": [
    "In this section we are going to use the above two dictionaries to calculate the *average number of comments for posts created during each hour of the day*. This we will store in an empty list."
   ]
  },
  {
   "cell_type": "code",
   "execution_count": 11,
   "metadata": {},
   "outputs": [
    {
     "name": "stdout",
     "output_type": "stream",
     "text": [
      "['09', 5.59]\n",
      "['13', 14.91]\n",
      "['10', 13.23]\n",
      "['14', 13.14]\n",
      "['16', 16.8]\n",
      "['23', 7.88]\n",
      "['12', 9.34]\n",
      "['17', 11.36]\n",
      "['15', 38.27]\n",
      "['21', 15.9]\n",
      "['20', 21.28]\n",
      "['02', 23.46]\n",
      "['18', 13.1]\n",
      "['03', 7.67]\n",
      "['05', 10.49]\n",
      "['19', 10.73]\n",
      "['01', 11.74]\n",
      "['22', 6.68]\n",
      "['08', 10.14]\n",
      "['04', 7.08]\n",
      "['00', 8.16]\n",
      "['06', 8.84]\n",
      "['07', 7.69]\n",
      "['11', 10.9]\n"
     ]
    }
   ],
   "source": [
    "avg_by_hour = []\n",
    "\n",
    "#calculating average comments by hour\n",
    "for hour in counts_by_hour:\n",
    "    avg_by_hour.append([hour, round(comments_by_hour[hour]/ counts_by_hour[hour], 2)])\n",
    "\n",
    "for i in avg_by_hour:\n",
    "    print(i, sep=' ')"
   ]
  },
  {
   "cell_type": "markdown",
   "metadata": {},
   "source": [
    "In the above list the first element is the *hour* and the second element is the *average number of comments per post* for the *ask post*. "
   ]
  },
  {
   "cell_type": "markdown",
   "metadata": {},
   "source": [
    "## 7. Sorting and Printing Values for the Better Understanding of the Above Analysis"
   ]
  },
  {
   "cell_type": "markdown",
   "metadata": {},
   "source": [
    "*avg_by_hour* list makes it difficult to identify the hours with the highest values. So we will sort the list and choose the five highest values in a format which is easier to read. First we are going to *swap* the elements in the list."
   ]
  },
  {
   "cell_type": "code",
   "execution_count": 12,
   "metadata": {},
   "outputs": [
    {
     "name": "stdout",
     "output_type": "stream",
     "text": [
      "[5.59, '09']\n",
      "[14.91, '13']\n",
      "[13.23, '10']\n",
      "[13.14, '14']\n",
      "[16.8, '16']\n",
      "[7.88, '23']\n",
      "[9.34, '12']\n",
      "[11.36, '17']\n",
      "[38.27, '15']\n",
      "[15.9, '21']\n",
      "[21.28, '20']\n",
      "[23.46, '02']\n",
      "[13.1, '18']\n",
      "[7.67, '03']\n",
      "[10.49, '05']\n",
      "[10.73, '19']\n",
      "[11.74, '01']\n",
      "[6.68, '22']\n",
      "[10.14, '08']\n",
      "[7.08, '04']\n",
      "[8.16, '00']\n",
      "[8.84, '06']\n",
      "[7.69, '07']\n",
      "[10.9, '11']\n"
     ]
    }
   ],
   "source": [
    "#create an empty list for swapping\n",
    "swap_avg_by_hour = []\n",
    "\n",
    "for x in avg_by_hour:\n",
    "    swap_list = [x[1], x[0]] \n",
    "    swap_avg_by_hour.append(swap_list)\n",
    "    \n",
    "for i in swap_avg_by_hour:\n",
    "    print(i, sep=' ')"
   ]
  },
  {
   "cell_type": "markdown",
   "metadata": {},
   "source": [
    "Below we are going to use the function *soeted* in order to sort the list in decending order of highest comments."
   ]
  },
  {
   "cell_type": "code",
   "execution_count": 13,
   "metadata": {},
   "outputs": [
    {
     "name": "stdout",
     "output_type": "stream",
     "text": [
      "[38.27, '15']\n",
      "[23.46, '02']\n",
      "[21.28, '20']\n",
      "[16.8, '16']\n",
      "[15.9, '21']\n"
     ]
    }
   ],
   "source": [
    "sorted_swap = sorted(swap_avg_by_hour, reverse = True)\n",
    "\n",
    "for i in sorted_swap[:5]:\n",
    "    print(i, sep=' ')"
   ]
  },
  {
   "cell_type": "markdown",
   "metadata": {},
   "source": [
    "Further we are going to format and print *Time* and *Average Comments per Post* for five top comments."
   ]
  },
  {
   "cell_type": "code",
   "execution_count": 14,
   "metadata": {},
   "outputs": [
    {
     "name": "stdout",
     "output_type": "stream",
     "text": [
      "15:00: 38.27 average comments per post.\n",
      "02:00: 23.46 average comments per post.\n",
      "20:00: 21.28 average comments per post.\n",
      "16:00: 16.80 average comments per post.\n",
      "21:00: 15.90 average comments per post.\n"
     ]
    }
   ],
   "source": [
    "for row in sorted_swap[:5]:\n",
    "    avg_com_per_post = row[0]\n",
    "    time = row[1]\n",
    "    \n",
    "    time = time+\":\"+\"00\"\n",
    "    time = dt.datetime.strptime(time, \"%H:%M\")\n",
    "    time = time.strftime(\"%H:%M\")   \n",
    "    \n",
    "    #format the average comments to indicate only two decimal places\n",
    "    template = \"{hour}: {acpp:.2f} average comments per post.\" \n",
    "    output = template.format(hour=time, acpp=avg_com_per_post)\n",
    "    print(output)"
   ]
  },
  {
   "cell_type": "markdown",
   "metadata": {},
   "source": [
    "### Answer to the question 2:\n",
    "**Do posts created at a certain time receive more comments on an average?**\n",
    "\n",
    "The five best hours to create an ask post to receive  maximum comments are:-\n",
    "\n",
    "`1. 15:00 (3 PM)` \n",
    "\n",
    "`2. 02:00 (2 AM)`\n",
    "\n",
    "`3. 20:00 (8 PM)`\n",
    "\n",
    "`4. 16:00 (4 PM)`\n",
    "\n",
    "`5. 21:00 (9 PM)`"
   ]
  },
  {
   "cell_type": "markdown",
   "metadata": {},
   "source": [
    "### 7.1 Converting the Best Hours to Receive More Comments to  Other Time Zones."
   ]
  },
  {
   "cell_type": "markdown",
   "metadata": {},
   "source": [
    "Below we will convert the time of receiving more comments to Indian Standard Time (IST)."
   ]
  },
  {
   "cell_type": "code",
   "execution_count": 15,
   "metadata": {},
   "outputs": [
    {
     "name": "stdout",
     "output_type": "stream",
     "text": [
      "01:26\n",
      "12:26\n",
      "06:26\n",
      "02:26\n",
      "07:26\n"
     ]
    }
   ],
   "source": [
    "#define est & ist\n",
    "est = pytz.timezone('US/Eastern')\n",
    "ist = pytz.timezone('Asia/Kolkata')\n",
    "\n",
    "#convert the times to est\n",
    "t1 = datetime(2020,7,4,15,0,tzinfo=est)\n",
    "t2 = datetime(2020,7,4,2,0,tzinfo=est)\n",
    "t3 = datetime(2020,7,4,20,0,tzinfo=est)\n",
    "t4 = datetime(2020,7,12,16,0,tzinfo=est)\n",
    "t5 = datetime(2020,7,12,21,0,tzinfo=est)\n",
    "\n",
    "#convert the above times to ist & format them\n",
    "t1_ist = t1.astimezone(ist).strftime(\"%H:%M\")\n",
    "t2_ist = t2.astimezone(ist).strftime(\"%H:%M\")\n",
    "t3_ist = t3.astimezone(ist).strftime(\"%H:%M\")\n",
    "t4_ist = t4.astimezone(ist).strftime(\"%H:%M\")\n",
    "t5_ist = t5.astimezone(ist).strftime(\"%H:%M\")\n",
    "\n",
    "#print the times in ist\n",
    "print(t1_ist)\n",
    "print(t2_ist)\n",
    "print(t3_ist)\n",
    "print(t4_ist)\n",
    "print(t5_ist)"
   ]
  },
  {
   "cell_type": "markdown",
   "metadata": {},
   "source": [
    "**The best time to receive maximum comments in IST are:-**\n",
    "\n",
    "`1. 1.30 AM`\n",
    "\n",
    "`2. 12.30 PM`\n",
    "\n",
    "`3. 6.30 AM`\n",
    "\n",
    "`4. 2.30 AM`\n",
    "\n",
    "`5. 7.30 AM`"
   ]
  },
  {
   "cell_type": "markdown",
   "metadata": {},
   "source": [
    "### Next we will perform more exploration on the data in order to understand the similarities and the differences between different posts "
   ]
  },
  {
   "cell_type": "markdown",
   "metadata": {},
   "source": [
    "## 8 Calculating the Number of *Show Posts*  Created Each Hour of the Day "
   ]
  },
  {
   "cell_type": "markdown",
   "metadata": {},
   "source": [
    "Here we will follow the same proceedure as above (used for *ask posts*) for calculating the number of show posts created each hour of the day. "
   ]
  },
  {
   "cell_type": "code",
   "execution_count": 16,
   "metadata": {},
   "outputs": [],
   "source": [
    "show_result_list = []\n",
    "\n",
    "for row in show_posts:\n",
    "    created_at = row[6]\n",
    "    num_comments = int(row[4])\n",
    "    show_result_list.append([created_at, num_comments])\n",
    "    \n",
    "\n",
    "show_counts_by_hour = {}\n",
    "show_comments_by_hour = {}\n",
    "\n",
    "\n",
    "for row in show_result_list:\n",
    "    date = row[0]\n",
    "    num_comments = row[1]\n",
    "    \n",
    "     \n",
    "    date = dt.datetime.strptime(date, \"%m/%d/%Y %H:%M\")\n",
    "    hour = date.strftime(\"%H\")\n",
    "    \n",
    "    \n",
    "    if hour not in show_counts_by_hour:\n",
    "        show_counts_by_hour[hour] =1\n",
    "        show_comments_by_hour[hour] = num_comments\n",
    "        \n",
    "        if hour in show_counts_by_hour:\n",
    "            show_counts_by_hour[hour] += 1\n",
    "            show_comments_by_hour[hour] += num_comments\n",
    "            \n",
    "# print(other_comments_by_hour)\n",
    "# print(other_counts_by_hour)"
   ]
  },
  {
   "cell_type": "markdown",
   "metadata": {},
   "source": [
    "### 8.1 Calculating the Average Number of Comments for Show Posts by Hour"
   ]
  },
  {
   "cell_type": "code",
   "execution_count": 17,
   "metadata": {},
   "outputs": [],
   "source": [
    "show_avg_by_hour = []\n",
    "\n",
    "for hour in show_counts_by_hour:\n",
    "    show_avg_by_hour.append([hour, show_comments_by_hour[hour]/show_counts_by_hour[hour]])\n",
    "    \n",
    "# for i in other_avg_by_hour:\n",
    "#     print(i, sep=' ')"
   ]
  },
  {
   "cell_type": "markdown",
   "metadata": {},
   "source": [
    "### 8.2 Sorting Values for Better Understanding "
   ]
  },
  {
   "cell_type": "code",
   "execution_count": 18,
   "metadata": {},
   "outputs": [
    {
     "name": "stdout",
     "output_type": "stream",
     "text": [
      "[102.0, '22']\n",
      "[22.0, '14']\n",
      "[9.0, '20']\n",
      "[5.0, '01']\n",
      "[4.0, '15']\n"
     ]
    }
   ],
   "source": [
    "show_swap_avg_by_hour = []\n",
    "\n",
    "for x in show_avg_by_hour:\n",
    "    swap_list = [x[1], x[0]]\n",
    "    show_swap_avg_by_hour.append(swap_list)\n",
    "    \n",
    "\n",
    "show_sorted_swap = sorted(show_swap_avg_by_hour, reverse=True)\n",
    "\n",
    "for i in show_sorted_swap[:5]:\n",
    "    print(i, sep=' ')"
   ]
  },
  {
   "cell_type": "markdown",
   "metadata": {},
   "source": [
    "**The *five best hours* to create a show post to receive  maximum comments are:-**\n",
    "\n",
    "`1) 22:00 (10 PM)`\n",
    "\n",
    "`2) 14:00 (2 PM)`\n",
    "\n",
    "`3) 20:00 (8 PM)`\n",
    "\n",
    "`4) 01:00 (1 AM)`\n",
    "\n",
    "`5) 15:00 (3 PM)`"
   ]
  },
  {
   "cell_type": "markdown",
   "metadata": {},
   "source": [
    "We observe that the five best times for receiving more comments on both *Ask Posts* and *Show Posts* are closely aligned.   "
   ]
  },
  {
   "cell_type": "markdown",
   "metadata": {},
   "source": [
    "## 9 Average Number of Points Received by Show Posts and Ask Posts"
   ]
  },
  {
   "cell_type": "markdown",
   "metadata": {},
   "source": [
    "In this section we are going to calculate the *average points* scored by *ask posts* and *show posts*."
   ]
  },
  {
   "cell_type": "markdown",
   "metadata": {},
   "source": [
    "### 9.1 Calculating the Average Number of Points for Ask Posts"
   ]
  },
  {
   "cell_type": "code",
   "execution_count": 19,
   "metadata": {},
   "outputs": [
    {
     "name": "stdout",
     "output_type": "stream",
     "text": [
      "average ask points: 15.06\n"
     ]
    }
   ],
   "source": [
    "total_ask_points = 0\n",
    "count_ask_points = 0\n",
    "\n",
    "for row in ask_posts:\n",
    "    num_points = int(row[3])\n",
    "    total_ask_points += num_points\n",
    "    count_ask_points += 1\n",
    "    \n",
    "    \n",
    "    avg_ask_points = total_ask_points/count_ask_points\n",
    "    \n",
    "print('average ask points:', round(avg_ask_points, 2))"
   ]
  },
  {
   "cell_type": "markdown",
   "metadata": {},
   "source": [
    "### 9.2 Calculating the Average Number of Points for Show Posts"
   ]
  },
  {
   "cell_type": "code",
   "execution_count": 20,
   "metadata": {},
   "outputs": [
    {
     "name": "stdout",
     "output_type": "stream",
     "text": [
      "average show points: 27.56\n"
     ]
    }
   ],
   "source": [
    "total_show_points = 0\n",
    "count_show_points = 0\n",
    "\n",
    "\n",
    "for row in show_posts:\n",
    "    num_points = int(row[3])\n",
    "    total_show_points += num_points\n",
    "    count_show_points += 1\n",
    "    \n",
    "    \n",
    "    avg_show_points = total_show_points/count_show_points\n",
    "    \n",
    "print('average show points:', round(avg_show_points, 2))"
   ]
  },
  {
   "cell_type": "markdown",
   "metadata": {},
   "source": [
    "Above analysis shows that average point for *ask posts* is *~ 15* and *show posts* is *~ 27*. Clearly *Show Posts* score more points than *Ask Posts*."
   ]
  },
  {
   "cell_type": "markdown",
   "metadata": {},
   "source": [
    "## 10 Determining if the Posts Created at Certain Time are Likely to Receive More Points "
   ]
  },
  {
   "cell_type": "markdown",
   "metadata": {},
   "source": [
    "In this section we are going to calculate if the posts created at certain time of the day is receives more points for both *ask posts* and *show posts*. "
   ]
  },
  {
   "cell_type": "markdown",
   "metadata": {},
   "source": [
    "### 10.1 Calculating the Number of Ask Post Points Created Each Hour of the Day"
   ]
  },
  {
   "cell_type": "code",
   "execution_count": 21,
   "metadata": {},
   "outputs": [],
   "source": [
    "ask_point_list = []\n",
    "\n",
    "for row in ask_posts:\n",
    "    created_at = row[6]\n",
    "    num_points = int(row[3])\n",
    "    ask_point_list.append([created_at, num_points])\n",
    "\n",
    "ask_counts_by_hour = {}\n",
    "points_by_hour = {}\n",
    "\n",
    "\n",
    "for row in ask_point_list:\n",
    "    date = row[0]\n",
    "    num_points = row[1]\n",
    "    \n",
    "    #parse the date and select just the hour\n",
    "    date = dt.datetime.strptime(date, \"%m/%d/%Y %H:%M\")\n",
    "    hour = date.strftime(\"%H\")\n",
    "    \n",
    "    \n",
    "    if hour not in ask_counts_by_hour:\n",
    "        ask_counts_by_hour[hour] = 1\n",
    "        points_by_hour[hour] = num_points\n",
    "        \n",
    "    if hour in ask_counts_by_hour:\n",
    "        ask_counts_by_hour[hour] += 1\n",
    "        points_by_hour[hour] += num_points\n",
    "        \n",
    "# print(ask_counts_by_hour)\n",
    "# print(points_by_hour)"
   ]
  },
  {
   "cell_type": "markdown",
   "metadata": {},
   "source": [
    "#### Calculating Average Number of Points for Ask Posts by Hour"
   ]
  },
  {
   "cell_type": "code",
   "execution_count": 22,
   "metadata": {},
   "outputs": [],
   "source": [
    "avg_points_by_hour = []\n",
    "\n",
    "for hour in ask_counts_by_hour:\n",
    "    avg_points_by_hour.append([hour, round(points_by_hour[hour]/ask_counts_by_hour[hour], 2)])\n",
    "    \n",
    "# print(avg_points_by_hour)"
   ]
  },
  {
   "cell_type": "markdown",
   "metadata": {},
   "source": [
    "#### Sorting Values"
   ]
  },
  {
   "cell_type": "code",
   "execution_count": 23,
   "metadata": {},
   "outputs": [
    {
     "name": "stdout",
     "output_type": "stream",
     "text": [
      "[29.74, '15']\n",
      "[24.3, '13']\n",
      "[23.39, '16']\n",
      "[19.24, '17']\n",
      "[18.38, '10']\n"
     ]
    }
   ],
   "source": [
    "#create an empty list \n",
    "swap_avg_points_by_hour = []\n",
    "\n",
    "#iterate through the avg_points_by_hour & append the above list\n",
    "for x in avg_points_by_hour:\n",
    "    swap_list = [x[1], x[0]]\n",
    "    swap_avg_points_by_hour.append(swap_list)\n",
    "    \n",
    "#sort the swapped list\n",
    "sorted_swap_avg = sorted(swap_avg_points_by_hour, reverse=True)\n",
    "for i in sorted_swap_avg[:5]:\n",
    "    print(i)"
   ]
  },
  {
   "cell_type": "markdown",
   "metadata": {},
   "source": [
    "**The *five best hours* to create other ask posts to receive  maximum points are:-**\n",
    "\n",
    "`1) 15:00 (3 PM)`\n",
    "\n",
    "`2) 13:00 (1 PM)`\n",
    "\n",
    "`3) 16:00 (4 PM)`\n",
    "\n",
    "`4) 17:00 (5 PM)`\n",
    "\n",
    "`5) 10:00 (10 AM)`"
   ]
  },
  {
   "cell_type": "markdown",
   "metadata": {},
   "source": [
    "### 10.2 Calculating the Number of Show Post Points Created Each Hour of the Day"
   ]
  },
  {
   "cell_type": "code",
   "execution_count": 24,
   "metadata": {},
   "outputs": [],
   "source": [
    "show_point_list = []\n",
    "\n",
    "\n",
    "for row in show_posts:\n",
    "    created_at = row[6]\n",
    "    num_points = int(row[3])\n",
    "    show_point_list.append([created_at, num_points])\n",
    "\n",
    "\n",
    "sh_counts_by_hour = {}\n",
    "show_points_by_hour = {}\n",
    "\n",
    "\n",
    "for row in show_point_list:\n",
    "    date = row[0]\n",
    "    num_points = row[1]\n",
    "    \n",
    "    \n",
    "    date = dt.datetime.strptime(date, \"%m/%d/%Y %H:%M\")\n",
    "    hour = date.strftime(\"%H\")\n",
    "    \n",
    "    \n",
    "    if hour not in sh_counts_by_hour:\n",
    "        sh_counts_by_hour[hour] = 1\n",
    "        show_points_by_hour[hour] = num_points\n",
    "        \n",
    "    if hour in sh_counts_by_hour:\n",
    "        sh_counts_by_hour[hour] += 1\n",
    "        show_points_by_hour[hour] += num_points\n",
    "        \n",
    "# print(sh_counts_by_hour)\n",
    "# print(show_points_by_hour)"
   ]
  },
  {
   "cell_type": "markdown",
   "metadata": {},
   "source": [
    "#### Calculating Average Number of Points for Show Posts by Hour"
   ]
  },
  {
   "cell_type": "code",
   "execution_count": 25,
   "metadata": {},
   "outputs": [],
   "source": [
    "avg_show_points_by_hour = []\n",
    "\n",
    "\n",
    "for hour in sh_counts_by_hour:\n",
    "    avg_show_points_by_hour.append([hour, round(show_points_by_hour[hour]/sh_counts_by_hour[hour], 2)])\n",
    "    \n",
    "# print(avg_show_points_by_hour)"
   ]
  },
  {
   "cell_type": "markdown",
   "metadata": {},
   "source": [
    "#### Sorting Values"
   ]
  },
  {
   "cell_type": "code",
   "execution_count": 26,
   "metadata": {},
   "outputs": [
    {
     "name": "stdout",
     "output_type": "stream",
     "text": [
      "[55.38, '22']\n",
      "[41.49, '23']\n",
      "[41.13, '12']\n",
      "[36.94, '00']\n",
      "[35.74, '18']\n"
     ]
    }
   ],
   "source": [
    "swap_avg_show_points_by_hour = []\n",
    "\n",
    "for x in avg_show_points_by_hour:\n",
    "    swap_list = [x[1], x[0]]\n",
    "    swap_avg_show_points_by_hour.append(swap_list)\n",
    "    \n",
    "\n",
    "sorted_swap_show_avg = sorted(swap_avg_show_points_by_hour, reverse=True)\n",
    "for i in sorted_swap_show_avg[:5]:\n",
    "    print(i)"
   ]
  },
  {
   "cell_type": "markdown",
   "metadata": {},
   "source": [
    "**The *five best hours* to create show posts to receive  maximum points are:-**\n",
    "\n",
    "`1) 22:00 (10 PM)`\n",
    "\n",
    "`2) 23:00 (11 PM)`\n",
    "\n",
    "`3) 12:00 (12 AM)`\n",
    "\n",
    "`4) 00:00 (12 PM)`\n",
    "\n",
    "`5) 18:00 (6 PM)`"
   ]
  },
  {
   "cell_type": "markdown",
   "metadata": {},
   "source": [
    "We observe that the five best times for receiving maximum ponits for *Ask posts* and *Show posts* are very different. These times are different than the times for receiving maximum comments as well."
   ]
  },
  {
   "cell_type": "markdown",
   "metadata": {},
   "source": [
    "## 11 Analysis of Other Posts in Comparison with Ask Posts and Show Posts"
   ]
  },
  {
   "cell_type": "markdown",
   "metadata": {},
   "source": [
    "In this section we are going to perform all the examination we have done so far on *ask posts* and *show posts* onto *other posts* and we will follow the same method as earlier for any assessment."
   ]
  },
  {
   "cell_type": "markdown",
   "metadata": {},
   "source": [
    "### 11.1 Calculation of Average Number of Comments for Other Posts"
   ]
  },
  {
   "cell_type": "code",
   "execution_count": 27,
   "metadata": {},
   "outputs": [
    {
     "name": "stdout",
     "output_type": "stream",
     "text": [
      "Average no. of other comments: 26.87\n"
     ]
    }
   ],
   "source": [
    "total_other_comments = 0\n",
    "count_other_comments = 0\n",
    "\n",
    "for row in other_posts:\n",
    "    num_comments = int(row[4])   \n",
    "    total_other_comments += num_comments  \n",
    "    count_other_comments += 1             \n",
    "\n",
    "    \n",
    "    avg_other_comments = total_other_comments / count_other_comments\n",
    "\n",
    "print('Average no. of other comments:', round(avg_other_comments, 2))"
   ]
  },
  {
   "cell_type": "markdown",
   "metadata": {},
   "source": [
    "*Average Number of Other Comments* is *~ 26*. This is more than both *Average Number of Ask Comments (~ 14)* and *Average Number of Show Comments (~ 10)*."
   ]
  },
  {
   "cell_type": "markdown",
   "metadata": {},
   "source": [
    "### 11.2 Calculation of Average Number of Points for Other Posts"
   ]
  },
  {
   "cell_type": "code",
   "execution_count": 28,
   "metadata": {},
   "outputs": [
    {
     "name": "stdout",
     "output_type": "stream",
     "text": [
      "average other points: 55.41\n"
     ]
    }
   ],
   "source": [
    "total_other_points = 0\n",
    "count_other_points = 0\n",
    "\n",
    "\n",
    "for row in other_posts:\n",
    "    num_points = int(row[3])\n",
    "    total_other_points += num_points\n",
    "    count_other_points += 1\n",
    "    \n",
    "    \n",
    "    avg_other_points = total_other_points/count_other_points\n",
    "    \n",
    "print('average other points:', round(avg_other_points, 2))"
   ]
  },
  {
   "cell_type": "markdown",
   "metadata": {},
   "source": [
    "*Average Number of Other Points* is *~ 55*. This is more than both *Average Number of Ask Points (~ 15)* and *Average Number of Show Points (~ 27)*."
   ]
  },
  {
   "cell_type": "markdown",
   "metadata": {},
   "source": [
    "### 11.3 Calculating the Number of *Other Posts*  Created Each Hour of the Day "
   ]
  },
  {
   "cell_type": "code",
   "execution_count": 29,
   "metadata": {},
   "outputs": [],
   "source": [
    "other_result_list = []\n",
    "\n",
    "\n",
    "for row in other_posts:\n",
    "    created_at = row[6]\n",
    "    num_comments = int(row[4])\n",
    "    other_result_list.append([created_at, num_comments])\n",
    "    \n",
    "    \n",
    "other_counts_by_hour = {}\n",
    "other_comments_by_hour = {}\n",
    "\n",
    "\n",
    "for row in other_result_list:\n",
    "    date = row[0]\n",
    "    num_comments = row[1]\n",
    "    \n",
    "    \n",
    "    date = dt.datetime.strptime(date, \"%m/%d/%Y %H:%M\")\n",
    "    hour = date.strftime(\"%H\")\n",
    "    \n",
    "    \n",
    "    if hour not in other_counts_by_hour:\n",
    "        other_counts_by_hour[hour] =1\n",
    "        other_comments_by_hour[hour] = num_comments\n",
    "        \n",
    "        if hour in other_counts_by_hour:\n",
    "            other_counts_by_hour[hour] += 1\n",
    "            other_comments_by_hour[hour] += num_comments\n",
    "            \n",
    "# print(other_comments_by_hour)\n",
    "# print(other_counts_by_hour)"
   ]
  },
  {
   "cell_type": "markdown",
   "metadata": {},
   "source": [
    "#### Calculating the Average Number of Comments for Other Posts by Hour"
   ]
  },
  {
   "cell_type": "code",
   "execution_count": 30,
   "metadata": {},
   "outputs": [],
   "source": [
    "other_avg_by_hour = []\n",
    "\n",
    "for hour in other_counts_by_hour:\n",
    "    other_avg_by_hour.append([hour, round(other_comments_by_hour[hour]/other_counts_by_hour[hour],2)])\n",
    "    \n",
    "# for i in other_avg_by_hour:\n",
    "#     print(i, sep=' ')"
   ]
  },
  {
   "cell_type": "markdown",
   "metadata": {},
   "source": [
    "#### Sorting Values for Better Understanding "
   ]
  },
  {
   "cell_type": "code",
   "execution_count": 31,
   "metadata": {},
   "outputs": [
    {
     "name": "stdout",
     "output_type": "stream",
     "text": [
      "[213.0, '02']\n",
      "[112.0, '21']\n",
      "[112.0, '03']\n",
      "[106.0, '17']\n",
      "[68.0, '07']\n"
     ]
    }
   ],
   "source": [
    "other_swap_avg_by_hour = []\n",
    "\n",
    "for x in other_avg_by_hour:\n",
    "    swap_list = [x[1], x[0]]\n",
    "    other_swap_avg_by_hour.append(swap_list)\n",
    "    \n",
    "\n",
    "other_sorted_swap = sorted(other_swap_avg_by_hour, reverse=True)\n",
    "\n",
    "for i in other_sorted_swap[:5]:\n",
    "    print(i, sep=' ')"
   ]
  },
  {
   "cell_type": "markdown",
   "metadata": {},
   "source": [
    "**The *five best hours* to create other post to receive  maximum comments are:-**\n",
    "\n",
    "`1) 02:00 (2 AM)`\n",
    "\n",
    "`2) 21:00 (9 PM)`\n",
    "\n",
    "`3) 03:00 (3 AM)`\n",
    "\n",
    "`4) 17:00 (5 PM)`\n",
    "\n",
    "`5) 07:00 (7 AM)`"
   ]
  },
  {
   "cell_type": "markdown",
   "metadata": {},
   "source": [
    "We observe that the five best times for getting maximum comments for *Other Posts* is somewhat similar to the best times of both *Ask Posts* and *Show Posts*."
   ]
  },
  {
   "cell_type": "markdown",
   "metadata": {},
   "source": [
    "### 11.4 Determining if Posts Created at Certain Time of the Day Receive More Points for Other Posts"
   ]
  },
  {
   "cell_type": "markdown",
   "metadata": {},
   "source": [
    "#### Calculating the Number of Other Post Ponits Created Each Hour of the Day"
   ]
  },
  {
   "cell_type": "code",
   "execution_count": 32,
   "metadata": {},
   "outputs": [],
   "source": [
    "other_point_list = []\n",
    "\n",
    "for row in other_posts:\n",
    "    created_at = row[6]\n",
    "    num_points = int(row[3])\n",
    "    other_point_list.append([created_at, num_points])\n",
    "\n",
    "\n",
    "other_counts_by_hour = {}\n",
    "other_points_by_hour = {}\n",
    "\n",
    "\n",
    "for row in other_point_list:\n",
    "    date = row[0]\n",
    "    num_points = row[1]\n",
    "    \n",
    "    \n",
    "    date = dt.datetime.strptime(date, \"%m/%d/%Y %H:%M\")\n",
    "    hour = date.strftime(\"%H\")\n",
    "    \n",
    "    \n",
    "    if hour not in other_counts_by_hour:\n",
    "        other_counts_by_hour[hour] = 1\n",
    "        other_points_by_hour[hour] = num_points\n",
    "        \n",
    "    if hour in other_counts_by_hour:\n",
    "        other_counts_by_hour[hour] += 1\n",
    "        other_points_by_hour[hour] += num_points\n",
    "        \n",
    "# print(other_counts_by_hour)\n",
    "# print(other_points_by_hour)"
   ]
  },
  {
   "cell_type": "markdown",
   "metadata": {},
   "source": [
    "#### Calculating Average Number of Points for Other Posts by Hour"
   ]
  },
  {
   "cell_type": "code",
   "execution_count": 33,
   "metadata": {},
   "outputs": [],
   "source": [
    "avg_other_points_by_hour = []\n",
    "\n",
    "\n",
    "for hour in other_counts_by_hour:\n",
    "    avg_other_points_by_hour.append([hour, round(other_points_by_hour[hour]/other_counts_by_hour[hour],2)])\n",
    "    \n",
    "# print(avg_other_points_by_hour)"
   ]
  },
  {
   "cell_type": "markdown",
   "metadata": {},
   "source": [
    "#### Sorting Values"
   ]
  },
  {
   "cell_type": "code",
   "execution_count": 34,
   "metadata": {},
   "outputs": [
    {
     "name": "stdout",
     "output_type": "stream",
     "text": [
      "[62.52, '13']\n",
      "[61.72, '14']\n",
      "[60.49, '15']\n",
      "[60.48, '10']\n",
      "[59.99, '19']\n"
     ]
    }
   ],
   "source": [
    "swap_avg_other_points_by_hour = []\n",
    "\n",
    "for x in avg_other_points_by_hour:\n",
    "    swap_list = [x[1], x[0]]\n",
    "    swap_avg_other_points_by_hour.append(swap_list)\n",
    "    \n",
    "sorted_swap_other_avg = sorted(swap_avg_other_points_by_hour, reverse=True)\n",
    "for i in sorted_swap_other_avg[:5]:\n",
    "    print(i)"
   ]
  },
  {
   "cell_type": "markdown",
   "metadata": {},
   "source": [
    "**The *five best hours* to create other posts to receive  maximum points are:-**\n",
    "\n",
    "1) 13:00 (1 PM)\n",
    "\n",
    "2) 14:00 (2 PM)\n",
    "\n",
    "3) 15:00 (3 PM)\n",
    "\n",
    "4) 10:00 (10 AM)\n",
    "\n",
    "5) 19:00 (7 PM)"
   ]
  },
  {
   "cell_type": "markdown",
   "metadata": {},
   "source": [
    "## Conclusion"
   ]
  },
  {
   "cell_type": "markdown",
   "metadata": {},
   "source": [
    "In this project we performed eloborate analysis on the *Hacker News Posts* dataset. We specifically analysed *Ask and Show posts*, trying to understand what kind of posts get more comments and what are the best times to post to get responses. We also analysed *other posts* (non-ask and non-show posts) and compared them with *Ask and Show posts*. \n",
    "\n",
    "Based on our analysis we make the following observations:\n",
    "\n",
    "1) We found that the number of *show posts (~ 1164)* and *ask posts (~ 1744)* together are only *~ 20%* compared to *other posts (~ 17194)*.  \n",
    "\n",
    "2) *Ask posts* gather more comments (*~14*) than *show posts* (*~10*). Whereas *show posts* gather more points (*~27*) than *ask posts* (*~15*). However the average number of comments and points are higher for other posts as compared to these two (*~26* & *~55*) respectively.\n",
    "\n",
    "3) We find that regardless of the type of post (ask, show or other) some hours of the day get more comments than others. We list these as\n",
    "\n",
    "*  `Afrenoon` :- from 2 PM to 5 PM\n",
    "*  `Late Evening` :- from 8 PM to 10 PM\n",
    "*  `Late Night` :- from 1 AM to 3 AM\n",
    "\n",
    "4) The best times to get highest points for three different posts are listed below: \n",
    "\n",
    "* `Ask Posts` :- *Afternoon* - from 1 PM till 5 PM\n",
    "* `Show Posts` :- *Night* - from 10 PM till 12 PM\n",
    "* `Other Posts` :- *Afternoon* - from 1 PM till 3 PM \n",
    "\n",
    "Results of our analysis can be used to guide users to decide what *kind* and *time* of post they should post on *Hacker News* in order to get maximum comments and points. "
   ]
  }
 ],
 "metadata": {
  "kernelspec": {
   "display_name": "Python 3 (ipykernel)",
   "language": "python",
   "name": "python3"
  },
  "language_info": {
   "codemirror_mode": {
    "name": "ipython",
    "version": 3
   },
   "file_extension": ".py",
   "mimetype": "text/x-python",
   "name": "python",
   "nbconvert_exporter": "python",
   "pygments_lexer": "ipython3",
   "version": "3.9.13"
  }
 },
 "nbformat": 4,
 "nbformat_minor": 2
}
